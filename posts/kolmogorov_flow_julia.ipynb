{
 "cells": [
  {
   "cell_type": "markdown",
   "id": "15be8469",
   "metadata": {},
   "source": [
    "# Turbulence Simulation with Julia: Kolmogorov Flow\n",
    "\n",
    "**Author**: Mingyu Jeon   \n",
    "**Date**: 2025-08-07\n",
    "\n",
    "---"
   ]
  },
  {
   "cell_type": "markdown",
   "id": "2c3e339e",
   "metadata": {},
   "source": [
    "Kolmogorov flow is a shear flow with spatially periodic forcing {cite:p}`Chatterjee2020`. It is a well-known test-bed for simulating turbulence {cite:p}`fylladitakis2018kolmogorov`.\n",
    "\n",
    "The Navier-Stokes equations for an incompressible fluid are\n",
    "\n",
    "$$\n",
    "\\frac{\\partial \\mathbf{u}}{\\partial t} + \\mathbf{u} \\cdot \\nabla \\mathbf{u} = - \\frac{1}{\\rho}\\nabla p + \\nu \\nabla^2 \\mathbf{u} + \\mathbf{f}\n",
    "$$\n",
    "\n",
    "$$\n",
    "\\nabla\\cdot \\mathbf{u} = 0\n",
    "$$\n",
    "\n",
    "where  $\\rho$ is the density, $\\mathbf{u}$ is the velocity, $p$ is the pressure, $\\nu$ is the kinematic viscosity, and $\\mathbf{f}$ is the forcing.\n",
    "\n",
    "We assume that density $\\rho$ is constant.\n",
    "\n",
    "When we consider a 2D Kolmogorov flow in a periodic and rectangular domain in the xy-plane, the forcing $\\mathbf{f}$ is given by\n",
    "\n",
    "$$\n",
    "\\mathbf{f}(\\mathbf{x}) = c \\sin(l \\pi y) \\hat{\\mathbf{x}}\n",
    "$$\n",
    "\n",
    "where forcing scale $c$ and forcing wavenumber $l$ are constants."
   ]
  },
  {
   "cell_type": "markdown",
   "id": "1e16d71b",
   "metadata": {},
   "source": [
    "In this post, we will simulate the 2D Kolmogorov flow with [Julia](https://julialang.org/) using the [\"Stable Fluids\"](https://www.josstam.com/_files/ugd/cf1fd6_898fe9b63df946689101b8d074f8efba.pdf) algorithm based on this video: [Writing a Turbulence Simulation in Julia](https://www.youtube.com/watch?v=26vdFV1EXKk)."
   ]
  },
  {
   "cell_type": "markdown",
   "id": "84d3fa6d",
   "metadata": {},
   "source": [
    "## Stable Fluids algorithm using FFT\n",
    "\n",
    "The explanation of the Stable Fluids algorithm using FFT is here: [Introduction to “Stable Fluids”](https://khu-sciml.netlify.app/posts/intro_stable_fluids). \n",
    "\n",
    "Here I just summarize the algorithm:\n",
    "\n",
    "- Initialize: $\\mathbf{w}_0(\\mathbf{x}) = \\mathbf{u}(\\mathbf{x}, t)$\n",
    "- Add Force: $\\mathbf{w}_1(\\mathbf{x}) = \\mathbf{w}_0(\\mathbf{x}) + \\Delta t \\; \\mathbf{f}(\\mathbf{x})$\n",
    "- Advect: $\\mathbf{w}_2(\\mathbf{x}) = \\mathbf{w}_1(\\mathbf{x} - \\Delta t \\; \\mathbf{w}_1(\\mathbf{x}))$\n",
    "- Fourier Transform: $\\hat{\\mathbf{w}}_2(\\mathbf{k}) = \\mathcal{F}\\{ \\mathbf{w}_2(\\mathbf{x}) \\}$\n",
    "- Diffuse: $\\hat{\\mathbf{w}}_3(\\mathbf{k}) = \\hat{\\mathbf{w}}_2(\\mathbf{k}) / (1 + \\nu \\Delta t \\; k^2)$\n",
    "- Project: $\\hat{\\mathbf{w}}_4(\\mathbf{k}) = \\hat{\\mathbf{w}}_3(\\mathbf{k}) - \\mathbf{k} (\\mathbf{k} \\cdot \\hat{\\mathbf{w}}_3(\\mathbf{k}))/k^2$\n",
    "- Inverse Fourier Transform: $\\mathbf{w}_4(\\mathbf{x}) = \\mathcal{F}^{-1}\\{ \\hat{\\mathbf{w}}_4(\\mathbf{k}) \\}$\n",
    "- Update: $\\mathbf{u}(\\mathbf{x}, t + \\Delta t) = \\mathbf{w}_4(\\mathbf{x})$"
   ]
  },
  {
   "cell_type": "markdown",
   "id": "f53b2c31",
   "metadata": {},
   "source": [
    "### Setup Parameters"
   ]
  },
  {
   "cell_type": "markdown",
   "id": "9f48fb4b",
   "metadata": {},
   "source": [
    "First, we set up spatial domain parameters: aspect ratio & number of points in y-direction."
   ]
  },
  {
   "cell_type": "code",
   "execution_count": null,
   "id": "00abbd07",
   "metadata": {},
   "outputs": [],
   "source": [
    "ASPECT_RATIO = 16/9     # x-size / y-size\n",
    "N_POINTS_Y = 360;       # number of points in y-direction"
   ]
  },
  {
   "cell_type": "markdown",
   "id": "8c41a68f",
   "metadata": {},
   "source": [
    "Next, we set up temporal domain parameters: time step length $\\Delta t$ & number of time steps."
   ]
  },
  {
   "cell_type": "code",
   "execution_count": null,
   "id": "0bfd69ac",
   "metadata": {},
   "outputs": [],
   "source": [
    "TIME_STEP_LENGTH = 0.001   # time step length\n",
    "N_TIME_STEPS = 750;        # number of time steps"
   ]
  },
  {
   "cell_type": "markdown",
   "id": "e68e10ff",
   "metadata": {},
   "source": [
    "Finally, we set up physical parameters: kinematic viscosity $\\nu$, forcing scale $c$, and forcing wavenumber $l$."
   ]
  },
  {
   "cell_type": "code",
   "execution_count": null,
   "id": "ed2b18ea",
   "metadata": {},
   "outputs": [],
   "source": [
    "KINEMATIC_VISCOSITY = 1.0 / 1000.0   # kinematic viscosity\n",
    "FORCING_SCALE = 100.0                # forcing scale\n",
    "FORCING_WAVENUMBER = 8;              # forcing wavenumber"
   ]
  },
  {
   "cell_type": "markdown",
   "id": "a3a76dbf",
   "metadata": {},
   "source": [
    "### Prepare Spatial Domain"
   ]
  },
  {
   "cell_type": "markdown",
   "id": "06939e4d",
   "metadata": {},
   "source": [
    "We construct the coordinate grids $(x, y)$ in the spatial domain."
   ]
  },
  {
   "cell_type": "code",
   "execution_count": null,
   "id": "31bded9f",
   "metadata": {},
   "outputs": [
    {
     "data": {
      "text/plain": [
       "640"
      ]
     },
     "metadata": {},
     "output_type": "display_data"
    }
   ],
   "source": [
    "n_points_x = Int(ASPECT_RATIO * N_POINTS_Y)           # number of points in x-direction (integer)"
   ]
  },
  {
   "cell_type": "code",
   "execution_count": null,
   "id": "c73a452b",
   "metadata": {},
   "outputs": [
    {
     "data": {
      "text/plain": [
       "0.0:0.0027821246913580246:1.7777776777777776"
      ]
     },
     "metadata": {},
     "output_type": "display_data"
    }
   ],
   "source": [
    "x_extent = n_points_x / N_POINTS_Y - 1.0e-7           # length of x-extent\n",
    "x_interval = range(0.0, x_extent, length=n_points_x)  # range of x-coordinates"
   ]
  },
  {
   "cell_type": "code",
   "execution_count": null,
   "id": "61e41eb5",
   "metadata": {},
   "outputs": [
    {
     "data": {
      "text/plain": [
       "0.0:0.002785515320334262:1.0"
      ]
     },
     "metadata": {},
     "output_type": "display_data"
    }
   ],
   "source": [
    "y_interval = range(0.0, 1.0, length=N_POINTS_Y)       # range of y-coordinates"
   ]
  },
  {
   "cell_type": "code",
   "execution_count": null,
   "id": "3510f0e0",
   "metadata": {},
   "outputs": [
    {
     "data": {
      "text/plain": [
       "640×360 Matrix{Float64}:\n",
       " 0.0         0.0         0.0         …  0.0         0.0         0.0\n",
       " 0.00278212  0.00278212  0.00278212     0.00278212  0.00278212  0.00278212\n",
       " 0.00556425  0.00556425  0.00556425     0.00556425  0.00556425  0.00556425\n",
       " 0.00834637  0.00834637  0.00834637     0.00834637  0.00834637  0.00834637\n",
       " 0.0111285   0.0111285   0.0111285      0.0111285   0.0111285   0.0111285\n",
       " 0.0139106   0.0139106   0.0139106   …  0.0139106   0.0139106   0.0139106\n",
       " 0.0166927   0.0166927   0.0166927      0.0166927   0.0166927   0.0166927\n",
       " 0.0194749   0.0194749   0.0194749      0.0194749   0.0194749   0.0194749\n",
       " 0.022257    0.022257    0.022257       0.022257    0.022257    0.022257\n",
       " 0.0250391   0.0250391   0.0250391      0.0250391   0.0250391   0.0250391\n",
       " ⋮                                   ⋱                          \n",
       " 1.75552     1.75552     1.75552        1.75552     1.75552     1.75552\n",
       " 1.7583      1.7583      1.7583         1.7583      1.7583      1.7583\n",
       " 1.76108     1.76108     1.76108        1.76108     1.76108     1.76108\n",
       " 1.76387     1.76387     1.76387        1.76387     1.76387     1.76387\n",
       " 1.76665     1.76665     1.76665     …  1.76665     1.76665     1.76665\n",
       " 1.76943     1.76943     1.76943        1.76943     1.76943     1.76943\n",
       " 1.77221     1.77221     1.77221        1.77221     1.77221     1.77221\n",
       " 1.775       1.775       1.775          1.775       1.775       1.775\n",
       " 1.77778     1.77778     1.77778        1.77778     1.77778     1.77778"
      ]
     },
     "metadata": {},
     "output_type": "display_data"
    }
   ],
   "source": [
    "coordinates_x = [x for x in x_interval, y in y_interval]  # x-coordinates in 2D array (Nx x Ny)"
   ]
  },
  {
   "cell_type": "code",
   "execution_count": null,
   "id": "05f11a1d",
   "metadata": {},
   "outputs": [
    {
     "data": {
      "text/plain": [
       "640×360 Matrix{Float64}:\n",
       " 0.0  0.00278552  0.00557103  …  0.991643  0.994429  0.997214  1.0\n",
       " 0.0  0.00278552  0.00557103     0.991643  0.994429  0.997214  1.0\n",
       " 0.0  0.00278552  0.00557103     0.991643  0.994429  0.997214  1.0\n",
       " 0.0  0.00278552  0.00557103     0.991643  0.994429  0.997214  1.0\n",
       " 0.0  0.00278552  0.00557103     0.991643  0.994429  0.997214  1.0\n",
       " 0.0  0.00278552  0.00557103  …  0.991643  0.994429  0.997214  1.0\n",
       " 0.0  0.00278552  0.00557103     0.991643  0.994429  0.997214  1.0\n",
       " 0.0  0.00278552  0.00557103     0.991643  0.994429  0.997214  1.0\n",
       " 0.0  0.00278552  0.00557103     0.991643  0.994429  0.997214  1.0\n",
       " 0.0  0.00278552  0.00557103     0.991643  0.994429  0.997214  1.0\n",
       " ⋮                            ⋱                                \n",
       " 0.0  0.00278552  0.00557103     0.991643  0.994429  0.997214  1.0\n",
       " 0.0  0.00278552  0.00557103     0.991643  0.994429  0.997214  1.0\n",
       " 0.0  0.00278552  0.00557103     0.991643  0.994429  0.997214  1.0\n",
       " 0.0  0.00278552  0.00557103     0.991643  0.994429  0.997214  1.0\n",
       " 0.0  0.00278552  0.00557103  …  0.991643  0.994429  0.997214  1.0\n",
       " 0.0  0.00278552  0.00557103     0.991643  0.994429  0.997214  1.0\n",
       " 0.0  0.00278552  0.00557103     0.991643  0.994429  0.997214  1.0\n",
       " 0.0  0.00278552  0.00557103     0.991643  0.994429  0.997214  1.0\n",
       " 0.0  0.00278552  0.00557103     0.991643  0.994429  0.997214  1.0"
      ]
     },
     "metadata": {},
     "output_type": "display_data"
    }
   ],
   "source": [
    "coordinates_y = [y for x in x_interval, y in y_interval]  # y-coordinates in 2D array (Nx x Ny)"
   ]
  },
  {
   "cell_type": "markdown",
   "id": "c6fec01e",
   "metadata": {},
   "source": [
    "### Prepare Fourier Domain"
   ]
  },
  {
   "cell_type": "markdown",
   "id": "17a84786",
   "metadata": {},
   "source": [
    "We construct the wavenumber grids $(k_x, k_y)$ in the Fourier domain."
   ]
  },
  {
   "cell_type": "code",
   "execution_count": null,
   "id": "db260906",
   "metadata": {},
   "outputs": [],
   "source": [
    "using FFTW"
   ]
  },
  {
   "cell_type": "markdown",
   "id": "f29c779d",
   "metadata": {},
   "source": [
    "Since we use FFT for 2D domain and physical quantities are real numbers, we can apply efficient `rfft` in x-direction and `fft` in y-direction. The reason of `fft` in y-direction is that the the result of `rfft` in x-direction is complex numbers, so we need to use `fft` in y-direction to handle complex numbers.\n",
    "\n",
    "The following code use `rfftfreq` in x-direction and `fftfreq` in y-direction to construct the wavenumber grids."
   ]
  },
  {
   "cell_type": "code",
   "execution_count": null,
   "id": "5d596c1c",
   "metadata": {},
   "outputs": [
    {
     "data": {
      "text/plain": [
       "321-element Frequencies{Float64}:\n",
       "   0.0\n",
       "   1.0\n",
       "   2.0\n",
       "   3.0\n",
       "   4.0\n",
       "   5.0\n",
       "   6.0\n",
       "   7.0\n",
       "   8.0\n",
       "   9.0\n",
       "   ⋮\n",
       " 312.0\n",
       " 313.0\n",
       " 314.0\n",
       " 315.0\n",
       " 316.0\n",
       " 317.0\n",
       " 318.0\n",
       " 319.0\n",
       " 320.0"
      ]
     },
     "metadata": {},
     "output_type": "display_data"
    }
   ],
   "source": [
    "wavenumbers_1d_x = rfftfreq(n_points_x) .* n_points_x"
   ]
  },
  {
   "cell_type": "code",
   "execution_count": null,
   "id": "9af828bf",
   "metadata": {},
   "outputs": [
    {
     "data": {
      "text/plain": [
       "360-element Frequencies{Float64}:\n",
       "  0.0\n",
       "  1.0\n",
       "  2.0\n",
       "  3.0\n",
       "  4.0\n",
       "  5.0\n",
       "  6.0\n",
       "  7.0\n",
       "  8.0\n",
       "  9.0\n",
       "  ⋮\n",
       " -9.0\n",
       " -8.0\n",
       " -7.0\n",
       " -6.0\n",
       " -5.0\n",
       " -4.0\n",
       " -3.0\n",
       " -2.0\n",
       " -1.0"
      ]
     },
     "metadata": {},
     "output_type": "display_data"
    }
   ],
   "source": [
    "wavenumbers_1d_y = fftfreq(N_POINTS_Y) .* N_POINTS_Y"
   ]
  },
  {
   "cell_type": "code",
   "execution_count": null,
   "id": "d4cb8f7e",
   "metadata": {},
   "outputs": [],
   "source": [
    "n_fft_points_x = length(wavenumbers_1d_x)   # number of wavenumber grids in x-direction\n",
    "n_fft_points_y = length(wavenumbers_1d_y);  # number of wavenumber grids in y-direction"
   ]
  },
  {
   "cell_type": "code",
   "execution_count": null,
   "id": "8311b787",
   "metadata": {},
   "outputs": [
    {
     "data": {
      "text/plain": [
       "321×360 Matrix{Float64}:\n",
       "   0.0    0.0    0.0    0.0    0.0  …    0.0    0.0    0.0    0.0    0.0\n",
       "   1.0    1.0    1.0    1.0    1.0       1.0    1.0    1.0    1.0    1.0\n",
       "   2.0    2.0    2.0    2.0    2.0       2.0    2.0    2.0    2.0    2.0\n",
       "   3.0    3.0    3.0    3.0    3.0       3.0    3.0    3.0    3.0    3.0\n",
       "   4.0    4.0    4.0    4.0    4.0       4.0    4.0    4.0    4.0    4.0\n",
       "   5.0    5.0    5.0    5.0    5.0  …    5.0    5.0    5.0    5.0    5.0\n",
       "   6.0    6.0    6.0    6.0    6.0       6.0    6.0    6.0    6.0    6.0\n",
       "   7.0    7.0    7.0    7.0    7.0       7.0    7.0    7.0    7.0    7.0\n",
       "   8.0    8.0    8.0    8.0    8.0       8.0    8.0    8.0    8.0    8.0\n",
       "   9.0    9.0    9.0    9.0    9.0       9.0    9.0    9.0    9.0    9.0\n",
       "   ⋮                                ⋱    ⋮                         \n",
       " 312.0  312.0  312.0  312.0  312.0     312.0  312.0  312.0  312.0  312.0\n",
       " 313.0  313.0  313.0  313.0  313.0     313.0  313.0  313.0  313.0  313.0\n",
       " 314.0  314.0  314.0  314.0  314.0     314.0  314.0  314.0  314.0  314.0\n",
       " 315.0  315.0  315.0  315.0  315.0  …  315.0  315.0  315.0  315.0  315.0\n",
       " 316.0  316.0  316.0  316.0  316.0     316.0  316.0  316.0  316.0  316.0\n",
       " 317.0  317.0  317.0  317.0  317.0     317.0  317.0  317.0  317.0  317.0\n",
       " 318.0  318.0  318.0  318.0  318.0     318.0  318.0  318.0  318.0  318.0\n",
       " 319.0  319.0  319.0  319.0  319.0     319.0  319.0  319.0  319.0  319.0\n",
       " 320.0  320.0  320.0  320.0  320.0  …  320.0  320.0  320.0  320.0  320.0"
      ]
     },
     "metadata": {},
     "output_type": "display_data"
    }
   ],
   "source": [
    "wavenumbers_x = [k_x for k_x in wavenumbers_1d_x, k_y in wavenumbers_1d_y]"
   ]
  },
  {
   "cell_type": "code",
   "execution_count": null,
   "id": "a2096238",
   "metadata": {},
   "outputs": [
    {
     "data": {
      "text/plain": [
       "321×360 Matrix{Float64}:\n",
       " 0.0  1.0  2.0  3.0  4.0  5.0  6.0  …  -6.0  -5.0  -4.0  -3.0  -2.0  -1.0\n",
       " 0.0  1.0  2.0  3.0  4.0  5.0  6.0     -6.0  -5.0  -4.0  -3.0  -2.0  -1.0\n",
       " 0.0  1.0  2.0  3.0  4.0  5.0  6.0     -6.0  -5.0  -4.0  -3.0  -2.0  -1.0\n",
       " 0.0  1.0  2.0  3.0  4.0  5.0  6.0     -6.0  -5.0  -4.0  -3.0  -2.0  -1.0\n",
       " 0.0  1.0  2.0  3.0  4.0  5.0  6.0     -6.0  -5.0  -4.0  -3.0  -2.0  -1.0\n",
       " 0.0  1.0  2.0  3.0  4.0  5.0  6.0  …  -6.0  -5.0  -4.0  -3.0  -2.0  -1.0\n",
       " 0.0  1.0  2.0  3.0  4.0  5.0  6.0     -6.0  -5.0  -4.0  -3.0  -2.0  -1.0\n",
       " 0.0  1.0  2.0  3.0  4.0  5.0  6.0     -6.0  -5.0  -4.0  -3.0  -2.0  -1.0\n",
       " 0.0  1.0  2.0  3.0  4.0  5.0  6.0     -6.0  -5.0  -4.0  -3.0  -2.0  -1.0\n",
       " 0.0  1.0  2.0  3.0  4.0  5.0  6.0     -6.0  -5.0  -4.0  -3.0  -2.0  -1.0\n",
       " ⋮                        ⋮         ⋱         ⋮                      \n",
       " 0.0  1.0  2.0  3.0  4.0  5.0  6.0     -6.0  -5.0  -4.0  -3.0  -2.0  -1.0\n",
       " 0.0  1.0  2.0  3.0  4.0  5.0  6.0     -6.0  -5.0  -4.0  -3.0  -2.0  -1.0\n",
       " 0.0  1.0  2.0  3.0  4.0  5.0  6.0     -6.0  -5.0  -4.0  -3.0  -2.0  -1.0\n",
       " 0.0  1.0  2.0  3.0  4.0  5.0  6.0  …  -6.0  -5.0  -4.0  -3.0  -2.0  -1.0\n",
       " 0.0  1.0  2.0  3.0  4.0  5.0  6.0     -6.0  -5.0  -4.0  -3.0  -2.0  -1.0\n",
       " 0.0  1.0  2.0  3.0  4.0  5.0  6.0     -6.0  -5.0  -4.0  -3.0  -2.0  -1.0\n",
       " 0.0  1.0  2.0  3.0  4.0  5.0  6.0     -6.0  -5.0  -4.0  -3.0  -2.0  -1.0\n",
       " 0.0  1.0  2.0  3.0  4.0  5.0  6.0     -6.0  -5.0  -4.0  -3.0  -2.0  -1.0\n",
       " 0.0  1.0  2.0  3.0  4.0  5.0  6.0  …  -6.0  -5.0  -4.0  -3.0  -2.0  -1.0"
      ]
     },
     "metadata": {},
     "output_type": "display_data"
    }
   ],
   "source": [
    "wavenumbers_y = [k_y for k_x in wavenumbers_1d_x, k_y in wavenumbers_1d_y]"
   ]
  },
  {
   "cell_type": "code",
   "execution_count": null,
   "id": "17cdfe2c",
   "metadata": {},
   "outputs": [],
   "source": [
    "using LinearAlgebra"
   ]
  },
  {
   "cell_type": "markdown",
   "id": "0a46e44a",
   "metadata": {},
   "source": [
    "We calculate the norm of the wavenumber vectors $k=|\\mathbf{k}|$ in the Fourier domain."
   ]
  },
  {
   "cell_type": "code",
   "execution_count": null,
   "id": "7fa5af34",
   "metadata": {},
   "outputs": [
    {
     "data": {
      "text/plain": [
       "321×360 Matrix{Float64}:\n",
       "   0.0    1.0        2.0        3.0      …    3.0        2.0        1.0\n",
       "   1.0    1.41421    2.23607    3.16228       3.16228    2.23607    1.41421\n",
       "   2.0    2.23607    2.82843    3.60555       3.60555    2.82843    2.23607\n",
       "   3.0    3.16228    3.60555    4.24264       4.24264    3.60555    3.16228\n",
       "   4.0    4.12311    4.47214    5.0           5.0        4.47214    4.12311\n",
       "   5.0    5.09902    5.38516    5.83095  …    5.83095    5.38516    5.09902\n",
       "   6.0    6.08276    6.32456    6.7082        6.7082     6.32456    6.08276\n",
       "   7.0    7.07107    7.28011    7.61577       7.61577    7.28011    7.07107\n",
       "   8.0    8.06226    8.24621    8.544         8.544      8.24621    8.06226\n",
       "   9.0    9.05539    9.21954    9.48683       9.48683    9.21954    9.05539\n",
       "   ⋮                                     ⋱                        \n",
       " 312.0  312.002    312.006    312.014       312.014    312.006    312.002\n",
       " 313.0  313.002    313.006    313.014       313.014    313.006    313.002\n",
       " 314.0  314.002    314.006    314.014       314.014    314.006    314.002\n",
       " 315.0  315.002    315.006    315.014    …  315.014    315.006    315.002\n",
       " 316.0  316.002    316.006    316.014       316.014    316.006    316.002\n",
       " 317.0  317.002    317.006    317.014       317.014    317.006    317.002\n",
       " 318.0  318.002    318.006    318.014       318.014    318.006    318.002\n",
       " 319.0  319.002    319.006    319.014       319.014    319.006    319.002\n",
       " 320.0  320.002    320.006    320.014    …  320.014    320.006    320.002"
      ]
     },
     "metadata": {},
     "output_type": "display_data"
    }
   ],
   "source": [
    "wavenumbers_norm = [norm([k_x, k_y]) for k_x in wavenumbers_1d_x, k_y in wavenumbers_1d_y]"
   ]
  },
  {
   "cell_type": "markdown",
   "id": "fba6ef2a",
   "metadata": {},
   "source": [
    "We then caculate $\\text{decay} = 1 / (1 + \\nu \\Delta t \\;k^2)$ to use it in the \"diffuse\" step."
   ]
  },
  {
   "cell_type": "code",
   "execution_count": null,
   "id": "fd45f1b4",
   "metadata": {},
   "outputs": [
    {
     "data": {
      "text/plain": [
       "321×360 Matrix{Float64}:\n",
       " 1.0       0.999999  0.999996  0.999991  …  0.999991  0.999996  0.999999\n",
       " 0.999999  0.999998  0.999995  0.99999      0.99999   0.999995  0.999998\n",
       " 0.999996  0.999995  0.999992  0.999987     0.999987  0.999992  0.999995\n",
       " 0.999991  0.99999   0.999987  0.999982     0.999982  0.999987  0.99999\n",
       " 0.999984  0.999983  0.99998   0.999975     0.999975  0.99998   0.999983\n",
       " 0.999975  0.999974  0.999971  0.999966  …  0.999966  0.999971  0.999974\n",
       " 0.999964  0.999963  0.99996   0.999955     0.999955  0.99996   0.999963\n",
       " 0.999951  0.99995   0.999947  0.999942     0.999942  0.999947  0.99995\n",
       " 0.999936  0.999935  0.999932  0.999927     0.999927  0.999932  0.999935\n",
       " 0.999919  0.999918  0.999915  0.99991      0.99991   0.999915  0.999918\n",
       " ⋮                                       ⋱                      \n",
       " 0.911291  0.91129   0.911288  0.911284     0.911284  0.911288  0.91129\n",
       " 0.910773  0.910772  0.910769  0.910765     0.910765  0.910769  0.910772\n",
       " 0.910253  0.910252  0.910249  0.910245     0.910245  0.910249  0.910252\n",
       " 0.909732  0.909731  0.909729  0.909724  …  0.909724  0.909729  0.909731\n",
       " 0.90921   0.909209  0.909207  0.909202     0.909202  0.909207  0.909209\n",
       " 0.908687  0.908686  0.908684  0.90868      0.90868   0.908684  0.908686\n",
       " 0.908163  0.908162  0.90816   0.908156     0.908156  0.90816   0.908162\n",
       " 0.907638  0.907637  0.907635  0.90763      0.90763   0.907635  0.907637\n",
       " 0.907112  0.907111  0.907108  0.907104  …  0.907104  0.907108  0.907111"
      ]
     },
     "metadata": {},
     "output_type": "display_data"
    }
   ],
   "source": [
    "decay = 1 ./ (1 .+ KINEMATIC_VISCOSITY .* TIME_STEP_LENGTH .*  wavenumbers_norm.^2)"
   ]
  },
  {
   "cell_type": "markdown",
   "id": "e4593abe",
   "metadata": {},
   "source": [
    "We replace 0 with 1 for the wavenumber $k=0$ to avoid division by zero in the \"project\" step: $\\hat{\\mathbf{w}}_4(\\mathbf{k}) = \\hat{\\mathbf{w}}_3(\\mathbf{k}) - \\mathbf{k} (\\mathbf{k} \\cdot \\hat{\\mathbf{w}}_3(\\mathbf{k}))/k^2$"
   ]
  },
  {
   "cell_type": "code",
   "execution_count": null,
   "id": "7cf9d12f",
   "metadata": {},
   "outputs": [],
   "source": [
    "wavenumbers_norm[iszero.(wavenumbers_norm)] .= 1.0;"
   ]
  },
  {
   "cell_type": "markdown",
   "id": "f8d82521",
   "metadata": {},
   "source": [
    "We calculate the forcing $\\mathbf{f}(\\mathbf{x}) = c \\sin(l \\pi y) \\hat{\\mathbf{x}}$ to use it in the \"add force\" step: $\\mathbf{w}_1(\\mathbf{x}) = \\mathbf{w}_0(\\mathbf{x}) + \\Delta t \\; \\mathbf{f}(\\mathbf{x})$"
   ]
  },
  {
   "cell_type": "code",
   "execution_count": null,
   "id": "3ea0c897",
   "metadata": {},
   "outputs": [
    {
     "data": {
      "text/plain": [
       "640×360 Matrix{Float64}:\n",
       " 0.0  6.99505  13.9558  20.8482  27.6385  …  -13.9558  -6.99505  -9.79717e-14\n",
       " 0.0  6.99505  13.9558  20.8482  27.6385     -13.9558  -6.99505  -9.79717e-14\n",
       " 0.0  6.99505  13.9558  20.8482  27.6385     -13.9558  -6.99505  -9.79717e-14\n",
       " 0.0  6.99505  13.9558  20.8482  27.6385     -13.9558  -6.99505  -9.79717e-14\n",
       " 0.0  6.99505  13.9558  20.8482  27.6385     -13.9558  -6.99505  -9.79717e-14\n",
       " 0.0  6.99505  13.9558  20.8482  27.6385  …  -13.9558  -6.99505  -9.79717e-14\n",
       " 0.0  6.99505  13.9558  20.8482  27.6385     -13.9558  -6.99505  -9.79717e-14\n",
       " 0.0  6.99505  13.9558  20.8482  27.6385     -13.9558  -6.99505  -9.79717e-14\n",
       " 0.0  6.99505  13.9558  20.8482  27.6385     -13.9558  -6.99505  -9.79717e-14\n",
       " 0.0  6.99505  13.9558  20.8482  27.6385     -13.9558  -6.99505  -9.79717e-14\n",
       " ⋮                                        ⋱                      \n",
       " 0.0  6.99505  13.9558  20.8482  27.6385     -13.9558  -6.99505  -9.79717e-14\n",
       " 0.0  6.99505  13.9558  20.8482  27.6385     -13.9558  -6.99505  -9.79717e-14\n",
       " 0.0  6.99505  13.9558  20.8482  27.6385     -13.9558  -6.99505  -9.79717e-14\n",
       " 0.0  6.99505  13.9558  20.8482  27.6385     -13.9558  -6.99505  -9.79717e-14\n",
       " 0.0  6.99505  13.9558  20.8482  27.6385  …  -13.9558  -6.99505  -9.79717e-14\n",
       " 0.0  6.99505  13.9558  20.8482  27.6385     -13.9558  -6.99505  -9.79717e-14\n",
       " 0.0  6.99505  13.9558  20.8482  27.6385     -13.9558  -6.99505  -9.79717e-14\n",
       " 0.0  6.99505  13.9558  20.8482  27.6385     -13.9558  -6.99505  -9.79717e-14\n",
       " 0.0  6.99505  13.9558  20.8482  27.6385     -13.9558  -6.99505  -9.79717e-14"
      ]
     },
     "metadata": {},
     "output_type": "display_data"
    }
   ],
   "source": [
    "force_x = FORCING_SCALE * sin.(FORCING_WAVENUMBER * pi * coordinates_y)"
   ]
  },
  {
   "cell_type": "markdown",
   "id": "86b17ba7",
   "metadata": {},
   "source": [
    "### Preallocate Arrays"
   ]
  },
  {
   "cell_type": "markdown",
   "id": "4118e137",
   "metadata": {},
   "source": [
    "previous velocity $\\mathbf{u}(\\mathbf{x}, t)$"
   ]
  },
  {
   "cell_type": "code",
   "execution_count": null,
   "id": "98ddaf44",
   "metadata": {},
   "outputs": [],
   "source": [
    "velocity_x_prev = zeros(Float32, n_points_x, N_POINTS_Y)\n",
    "velocity_y_prev = zeros(Float32, n_points_x, N_POINTS_Y);"
   ]
  },
  {
   "cell_type": "markdown",
   "id": "ac48c37f",
   "metadata": {},
   "source": [
    "next velocity $\\mathbf{u}(\\mathbf{x}, t + \\Delta t)$"
   ]
  },
  {
   "cell_type": "code",
   "execution_count": null,
   "id": "3fc0d010",
   "metadata": {},
   "outputs": [],
   "source": [
    "velocity_x = zeros(Float32, n_points_x, N_POINTS_Y)\n",
    "velocity_y = zeros(Float32, n_points_x, N_POINTS_Y);"
   ]
  },
  {
   "cell_type": "markdown",
   "id": "b7b57b02",
   "metadata": {},
   "source": [
    "velocity in Fourier domain $\\hat{\\mathbf{u}}(\\mathbf{k})$"
   ]
  },
  {
   "cell_type": "code",
   "execution_count": null,
   "id": "cdef4067",
   "metadata": {},
   "outputs": [],
   "source": [
    "velocity_x_fft = zeros(Complex{Float32}, n_fft_points_x, n_fft_points_y)\n",
    "velocity_y_fft = zeros(Complex{Float32}, n_fft_points_x, n_fft_points_y);"
   ]
  },
  {
   "cell_type": "markdown",
   "id": "2131a5ed",
   "metadata": {},
   "source": [
    "pseudo-pressure in Fourier domain $q(\\mathbf{k}) = (\\mathbf{k} \\cdot \\hat{\\mathbf{w}}_3(\\mathbf{k}))/k^2$\n",
    "\n",
    "Then, the \"project\" step is $\\hat{\\mathbf{w}}_4(\\mathbf{k}) = \\hat{\\mathbf{w}}_3(\\mathbf{k}) - q(\\mathbf{k})\\mathbf{k} $"
   ]
  },
  {
   "cell_type": "code",
   "execution_count": null,
   "id": "7d7917e0",
   "metadata": {},
   "outputs": [],
   "source": [
    "pseudo_pressure_fft = zeros(Complex{Float32}, n_fft_points_x, n_fft_points_y);"
   ]
  },
  {
   "cell_type": "markdown",
   "id": "237dc642",
   "metadata": {},
   "source": [
    "backtraced position $\\mathbf{p}(\\mathbf{x},-\\Delta t)$ "
   ]
  },
  {
   "cell_type": "code",
   "execution_count": null,
   "id": "61272e37",
   "metadata": {},
   "outputs": [],
   "source": [
    "backtraced_coordinates_x = zeros(Float32, n_points_x, N_POINTS_Y)\n",
    "backtraced_coordinates_y = zeros(Float32, n_points_x, N_POINTS_Y);"
   ]
  },
  {
   "cell_type": "markdown",
   "id": "2985907b",
   "metadata": {},
   "source": [
    "The backtraced position can be calculated as\n",
    "\n",
    "$$\n",
    "\\mathbf{p}(\\mathbf{x},-\\Delta t) = \\mathbf{x} - \\Delta t \\; \\mathbf{w}_1(\\mathbf{x})\n",
    "$$\n",
    "\n",
    "and it is used in the \"advect\" step\n",
    "\n",
    "$$\n",
    "\\mathbf{w}_2(\\mathbf{x}) = \\mathbf{w}_1(\\mathbf{x} - \\Delta t \\; \\mathbf{w}_1(\\mathbf{x}))\n",
    "$$\n",
    "\n",
    "Since the backtraced position does not necessarily lie on the grid points, we need an interpolator for $\\mathbf{w}_1(\\mathbf{x})$ at those positions."
   ]
  },
  {
   "cell_type": "code",
   "execution_count": null,
   "id": "276d57e8",
   "metadata": {},
   "outputs": [],
   "source": [
    "using Interpolations"
   ]
  },
  {
   "cell_type": "code",
   "execution_count": null,
   "id": "20230d2f",
   "metadata": {},
   "outputs": [
    {
     "data": {
      "text/plain": [
       "640×360 interpolate((0.0:0.0027821246913580246:1.7777776777777776,0.0:0.002785515320334262:1.0), ::Matrix{Float32}, Gridded(Linear())) with element type Float32:\n",
       " 0.0  0.0  0.0  0.0  0.0  0.0  0.0  0.0  …  0.0  0.0  0.0  0.0  0.0  0.0  0.0\n",
       " 0.0  0.0  0.0  0.0  0.0  0.0  0.0  0.0     0.0  0.0  0.0  0.0  0.0  0.0  0.0\n",
       " 0.0  0.0  0.0  0.0  0.0  0.0  0.0  0.0     0.0  0.0  0.0  0.0  0.0  0.0  0.0\n",
       " 0.0  0.0  0.0  0.0  0.0  0.0  0.0  0.0     0.0  0.0  0.0  0.0  0.0  0.0  0.0\n",
       " 0.0  0.0  0.0  0.0  0.0  0.0  0.0  0.0     0.0  0.0  0.0  0.0  0.0  0.0  0.0\n",
       " 0.0  0.0  0.0  0.0  0.0  0.0  0.0  0.0  …  0.0  0.0  0.0  0.0  0.0  0.0  0.0\n",
       " 0.0  0.0  0.0  0.0  0.0  0.0  0.0  0.0     0.0  0.0  0.0  0.0  0.0  0.0  0.0\n",
       " 0.0  0.0  0.0  0.0  0.0  0.0  0.0  0.0     0.0  0.0  0.0  0.0  0.0  0.0  0.0\n",
       " 0.0  0.0  0.0  0.0  0.0  0.0  0.0  0.0     0.0  0.0  0.0  0.0  0.0  0.0  0.0\n",
       " 0.0  0.0  0.0  0.0  0.0  0.0  0.0  0.0     0.0  0.0  0.0  0.0  0.0  0.0  0.0\n",
       " ⋮                        ⋮              ⋱            ⋮                   \n",
       " 0.0  0.0  0.0  0.0  0.0  0.0  0.0  0.0     0.0  0.0  0.0  0.0  0.0  0.0  0.0\n",
       " 0.0  0.0  0.0  0.0  0.0  0.0  0.0  0.0     0.0  0.0  0.0  0.0  0.0  0.0  0.0\n",
       " 0.0  0.0  0.0  0.0  0.0  0.0  0.0  0.0     0.0  0.0  0.0  0.0  0.0  0.0  0.0\n",
       " 0.0  0.0  0.0  0.0  0.0  0.0  0.0  0.0     0.0  0.0  0.0  0.0  0.0  0.0  0.0\n",
       " 0.0  0.0  0.0  0.0  0.0  0.0  0.0  0.0  …  0.0  0.0  0.0  0.0  0.0  0.0  0.0\n",
       " 0.0  0.0  0.0  0.0  0.0  0.0  0.0  0.0     0.0  0.0  0.0  0.0  0.0  0.0  0.0\n",
       " 0.0  0.0  0.0  0.0  0.0  0.0  0.0  0.0     0.0  0.0  0.0  0.0  0.0  0.0  0.0\n",
       " 0.0  0.0  0.0  0.0  0.0  0.0  0.0  0.0     0.0  0.0  0.0  0.0  0.0  0.0  0.0\n",
       " 0.0  0.0  0.0  0.0  0.0  0.0  0.0  0.0     0.0  0.0  0.0  0.0  0.0  0.0  0.0"
      ]
     },
     "metadata": {},
     "output_type": "display_data"
    }
   ],
   "source": [
    "interpolator = interpolate(\n",
    "    (x_interval, y_interval), # (x-coordinates, y-coordinates) ranges\n",
    "    velocity_x,               # (Nx, Ny) zero array for an initialization of the interpolator\n",
    "    Gridded(Linear()),        # Bi-linear interpolation\n",
    ")"
   ]
  },
  {
   "cell_type": "markdown",
   "id": "308c3850",
   "metadata": {},
   "source": [
    "For visualization, we will calculate the curl of the velocity $\\nabla \\times \\mathbf{u}(\\mathbf{x})$.\n",
    "\n",
    "The curl of the velocity in Fourier domain is $i\\mathbf{k} \\times \\hat{\\mathbf{u}}(\\mathbf{k})$.\n",
    "\n",
    "For 2D velocity $\\hat{\\mathbf{u}} = (\\hat{u}_x, \\hat{u}_y)$, the curl in Fourier domain is given by\n",
    "\n",
    "$$\n",
    "i (k_x \\hat{\\mathbf{x}} + k_y \\hat{\\mathbf{y}}) \\times (\\hat{u}_x \\hat{\\mathbf{x}} + \\hat{u}_y \\hat{\\mathbf{y}}) = i (k_x \\hat{u}_y - k_y \\hat{u}_x) \\hat{\\mathbf{z}}\n",
    "$$\n",
    "\n",
    "Therefore,\n",
    "\n",
    "$$\n",
    "\\nabla \\times \\mathbf{u}(\\mathbf{x}) = \\mathcal{F}^{-1}\\{ i k_x \\hat{u}_y - ik_y \\hat{u}_x \\} \\hat{\\mathbf{z}}\n",
    "$$"
   ]
  },
  {
   "cell_type": "code",
   "execution_count": null,
   "id": "88631367",
   "metadata": {},
   "outputs": [],
   "source": [
    "curl_fft = zeros(Complex{Float32}, n_fft_points_x, n_fft_points_y)\n",
    "curl = zeros(Float32, n_points_x, N_POINTS_Y);"
   ]
  },
  {
   "cell_type": "markdown",
   "id": "014c2046",
   "metadata": {},
   "source": [
    "### Main Loop"
   ]
  },
  {
   "cell_type": "markdown",
   "id": "32266d7b",
   "metadata": {},
   "source": [
    "The next cell is the main simulation loop."
   ]
  },
  {
   "cell_type": "code",
   "execution_count": null,
   "id": "d3fb9697",
   "metadata": {},
   "outputs": [
    {
     "name": "stderr",
     "output_type": "stream",
     "text": [
      "\u001b[32mTimestepping ... 100%|███████████████████████████████████| Time: 0:03:47\u001b[39m\u001b[K\n"
     ]
    }
   ],
   "source": [
    "using ProgressMeter # for @showprogress\n",
    "using Printf        # for @sprintf\n",
    "using Statistics    # for mean\n",
    "using Plots         # visualization\n",
    "theme(:dark)        # dark theme for Plots\n",
    "\n",
    "mkpath(\"images\")  # Create a directory to save the images\n",
    "\n",
    "@showprogress \"Timestepping ...\" for iter in 1:N_TIME_STEPS\n",
    "    # (1) Add Force\n",
    "    velocity_x_prev .+= TIME_STEP_LENGTH * force_x\n",
    "\n",
    "    # (2) Self-Advection by backtracing and interpolation\n",
    "    backtraced_coordinates_x .= mod1.(\n",
    "        coordinates_x - TIME_STEP_LENGTH * velocity_x_prev,\n",
    "        x_extent,\n",
    "    )  # Here, mod1 is used to ensure that the coordinates wrap around the domain (periodic boundary conditions)\n",
    "    backtraced_coordinates_y .= mod1.(\n",
    "        coordinates_y - TIME_STEP_LENGTH * velocity_y_prev,\n",
    "        1.0,  # y-extent\n",
    "    )  # Again, mod1 is used for periodic boundary conditions\n",
    "\n",
    "    interpolator.coefs .= velocity_x_prev  # We create a new interpolator with the current velocity_x_prev\n",
    "    velocity_x .= interpolator.(\n",
    "        backtraced_coordinates_x, \n",
    "        backtraced_coordinates_y\n",
    "    )  # Get the velocity_x at the backtraced coordinates (self-advection)\n",
    "    interpolator.coefs .= velocity_y_prev  # We create a new interpolator with the current velocity_y_prev\n",
    "    velocity_y .= interpolator.(\n",
    "        backtraced_coordinates_x, \n",
    "        backtraced_coordinates_y\n",
    "    )  # Get the velocity_y at the backtraced coordinates (self-advection)\n",
    "\n",
    "    # Subtle Point: Stabilize by subtracting the mean velocities\n",
    "    # It avoids the drift of the flow\n",
    "    # We always in the fluid's reference frame so that we only focus on the vortex motions\n",
    "    velocity_x .-= mean(vec(velocity_x))\n",
    "    velocity_y .-= mean(vec(velocity_y))\n",
    "    \n",
    "    # Fourier Transform: `rfft`\n",
    "    velocity_x_fft = rfft(velocity_x)\n",
    "    velocity_y_fft = rfft(velocity_y)\n",
    "\n",
    "    # (3) Diffuse\n",
    "    velocity_x_fft .*= decay\n",
    "    velocity_y_fft .*= decay\n",
    "\n",
    "    # (4) Project to the divergence-free space\n",
    "    pseudo_pressure_fft = (\n",
    "        velocity_x_fft .* wavenumbers_x\n",
    "        +\n",
    "        velocity_y_fft .* wavenumbers_y\n",
    "    ) \n",
    "    pseudo_pressure_fft ./= wavenumbers_norm.^2\n",
    "\n",
    "    velocity_x_fft -= pseudo_pressure_fft .* wavenumbers_x\n",
    "    velocity_y_fft -= pseudo_pressure_fft .* wavenumbers_y\n",
    "\n",
    "    # Inverse Fourier Transform: `irfft`\n",
    "    velocity_x = irfft(velocity_x_fft, n_points_x)\n",
    "    velocity_y = irfft(velocity_y_fft, n_points_x)\n",
    "\n",
    "    # Subtle Point: Stabilize by subtracting the mean velocities\n",
    "    velocity_x .-= mean(vec(velocity_x))\n",
    "    velocity_y .-= mean(vec(velocity_y))\n",
    "\n",
    "    # (5) Advance in time\n",
    "    velocity_x_prev = velocity_x\n",
    "    velocity_y_prev = velocity_y\n",
    "\n",
    "    # Visualize\n",
    "    curl_fft .= im .* wavenumbers_x .* velocity_y_fft - im .* wavenumbers_y .* velocity_x_fft\n",
    "    curl .= irfft(curl_fft, n_points_x)\n",
    "    curl = sign.(curl) .* sqrt.(abs.(curl) ./ quantile(vec(curl), 0.8)) # Normalize the curl for visualization\n",
    "\n",
    "    heatmap(\n",
    "        x_interval, \n",
    "        y_interval,\n",
    "        curl', # Transpose for correct orientation\n",
    "        c = :seaborn_icefire_gradient,\n",
    "        size = (1920, 1080),\n",
    "        clim = (-5.0, 5.0),\n",
    "        axis = false,\n",
    "        showaxis = false,\n",
    "        legend = :none,\n",
    "        ticks = false,\n",
    "        margin = 0.0Plots.mm,\n",
    "        annotations = (\n",
    "            0.06, \n",
    "            1.0 - 0.06,\n",
    "            Plots.text(\n",
    "                \"$(@sprintf(\"iter: %05d\", iter))\",\n",
    "                pointsize = 40,\n",
    "                color = :white,\n",
    "                halign = :left,\n",
    "            )\n",
    "        )\n",
    "    )\n",
    "    savefig(\"images/kolmogorov_$(@sprintf(\"%05d\", iter)).png\")\n",
    "    \n",
    "end "
   ]
  },
  {
   "cell_type": "markdown",
   "id": "d3af14a5",
   "metadata": {},
   "source": [
    "## Simulation Result"
   ]
  },
  {
   "cell_type": "markdown",
   "id": "e88a4b44",
   "metadata": {},
   "source": [
    "The following [FFmpeg](https://ffmpeg.org/) command can be used to create a video.\n",
    "\n",
    "```bash\n",
    "ffmpeg -f images -framerate 24 -i kolmogorov_%05d.png kolmogorov_animation.mp4\n",
    "```"
   ]
  },
  {
   "cell_type": "markdown",
   "id": "dbc2f84e",
   "metadata": {},
   "source": [
    "```{raw} html\n",
    "<div style=\"position: relative; padding-bottom: 56.25%; height: 0; overflow: hidden;\">\n",
    "  <iframe \n",
    "    src=\"https://www.youtube.com/embed/m_Lj1vyoNk0\" \n",
    "    style=\"position: absolute; top: 0; left: 0; width: 100%; height: 100%;\"\n",
    "    frameborder=\"0\" \n",
    "    allowfullscreen>\n",
    "  </iframe>\n",
    "</div>\n",
    "```"
   ]
  },
  {
   "cell_type": "markdown",
   "id": "4bb87b5a",
   "metadata": {},
   "source": [
    "```{bibliography}\n",
    "```"
   ]
  }
 ],
 "metadata": {
  "kernelspec": {
   "display_name": "julia-1.11",
   "language": "julia",
   "name": "julia-1.11"
  }
 },
 "nbformat": 4,
 "nbformat_minor": 5
}

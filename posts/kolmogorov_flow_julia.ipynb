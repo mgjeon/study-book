{
 "cells": [
  {
   "cell_type": "markdown",
   "id": "15be8469",
   "metadata": {},
   "source": [
    "# Turbulence Simulation with Julia: Kolmogorov Flow (draft)\n",
    "\n",
    "**Author**: Mingyu Jeon   \n",
    "**Date**: 2025-08\n",
    "\n",
    "---"
   ]
  },
  {
   "cell_type": "markdown",
   "id": "2c3e339e",
   "metadata": {},
   "source": [
    "Kolmogorov flow is a shear flow with spatially periodic forcing {cite:p}`Chatterjee2020`. It is a well-known test-bed for simulating turbulence {cite:p}`fylladitakis2018kolmogorov`.\n",
    "\n",
    "The Navier-Stokes equations for an incompressible fluid are\n",
    "\n",
    "$$\n",
    "\\frac{\\partial \\mathbf{u}}{\\partial t} + \\mathbf{u} \\cdot \\nabla \\mathbf{u} = - \\frac{1}{\\rho}\\nabla p + \\nu \\nabla^2 \\mathbf{u} + \\mathbf{f}\n",
    "$$\n",
    "\n",
    "$$\n",
    "\\nabla\\cdot \\mathbf{u} = 0\n",
    "$$\n",
    "\n",
    "where  $\\rho$ is the density, $\\mathbf{u}$ is the velocity, $p$ is the pressure, $\\nu$ is the kinematic viscosity, and $\\mathbf{f}$ is the forcing.\n",
    "\n",
    "We assume that density $\\rho$ is constant.\n",
    "\n",
    "When we consider a 2D Kolmogorov flow in a periodic and rectangular domain in the xy-plane, the forcing $\\mathbf{f}$ is given by\n",
    "\n",
    "$$\n",
    "\\mathbf{f} = c \\sin(k y) \\hat{\\mathbf{x}}\n",
    "$$\n",
    "\n",
    "where $c$ and $k$ are constants."
   ]
  },
  {
   "cell_type": "markdown",
   "id": "1e16d71b",
   "metadata": {},
   "source": [
    "In this post, we will simulate the 2D Kolmogorov flow with [Julia](https://julialang.org/) using a [\"Stable Fluids\"](https://www.josstam.com/_files/ugd/cf1fd6_898fe9b63df946689101b8d074f8efba.pdf) algorithm following this video: [Writing a Turbulence Simulation in Julia](https://www.youtube.com/watch?v=26vdFV1EXKk)."
   ]
  },
  {
   "cell_type": "code",
   "execution_count": null,
   "id": "0c7043f9",
   "metadata": {},
   "outputs": [
    {
     "name": "stdout",
     "output_type": "stream",
     "text": [
      "Hello world"
     ]
    }
   ],
   "source": [
    "# Julia test\n",
    "print(\"Hello world\")"
   ]
  },
  {
   "cell_type": "markdown",
   "id": "4bb87b5a",
   "metadata": {},
   "source": [
    "```{bibliography}\n",
    "```"
   ]
  }
 ],
 "metadata": {
  "kernelspec": {
   "display_name": "julia-1.11",
   "language": "julia",
   "name": "julia-1.11"
  }
 },
 "nbformat": 4,
 "nbformat_minor": 5
}
